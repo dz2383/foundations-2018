{
 "cells": [
  {
   "cell_type": "markdown",
   "metadata": {},
   "source": [
    "# Texas Cosmetologist Violations\n",
    "\n",
    "Texas has a system for [searching for license violations](https://www.tdlr.texas.gov/cimsfo/fosearch.asp). You're going to search for cosmetologists!"
   ]
  },
  {
   "cell_type": "markdown",
   "metadata": {},
   "source": [
    "## Setup: Import what you'll need to scrape the page\n",
    "\n",
    "We'll be using Selenium for this, *not* BeautifulSoup and requests."
   ]
  },
  {
   "cell_type": "code",
   "execution_count": 2,
   "metadata": {},
   "outputs": [],
   "source": [
    "from selenium import webdriver\n",
    "from selenium.webdriver.common.keys import Keys\n",
    "from selenium.webdriver.support.ui import Select\n",
    "from selenium.webdriver.support.ui import WebDriverWait"
   ]
  },
  {
   "cell_type": "markdown",
   "metadata": {
    "collapsed": true
   },
   "source": [
    "## Starting your search\n",
    "\n",
    "Starting from [here](https://www.tdlr.texas.gov/cimsfo/fosearch.asp), search for cosmetologist violations for people with the last name **Nguyen**."
   ]
  },
  {
   "cell_type": "code",
   "execution_count": 3,
   "metadata": {},
   "outputs": [],
   "source": [
    "driver =webdriver.Chrome()\n",
    "driver.get('https://www.tdlr.texas.gov/cimsfo/fosearch.asp')"
   ]
  },
  {
   "cell_type": "code",
   "execution_count": 4,
   "metadata": {},
   "outputs": [],
   "source": [
    "dropdown = Select(driver.find_element_by_name('pht_status'))\n",
    "dropdown.select_by_visible_text('Cosmetologists')"
   ]
  },
  {
   "cell_type": "code",
   "execution_count": 5,
   "metadata": {},
   "outputs": [],
   "source": [
    "text_input= driver.find_element_by_xpath('//*[@id=\"dat-menu\"]/div/div[2]/div/div/section/div/div/table/tbody/tr/td/form/table/tbody/tr[7]/td/p/input')\n",
    "text_input.send_keys('Nguyen')\n",
    " "
   ]
  },
  {
   "cell_type": "code",
   "execution_count": 6,
   "metadata": {},
   "outputs": [],
   "source": [
    "search_buttom= driver.find_element_by_xpath('//*[@id=\"dat-menu\"]/div/div[2]/div/div/section/div/div/table/tbody/tr/td/form/table/tbody/tr[18]/td/input[1]')\n",
    "search_buttom.click()"
   ]
  },
  {
   "cell_type": "markdown",
   "metadata": {},
   "source": [
    "## Scraping\n",
    "\n",
    "Once you are on the results page, do this."
   ]
  },
  {
   "cell_type": "markdown",
   "metadata": {},
   "source": [
    "### Loop through each result and print the entire row\n",
    "\n",
    "Okay wait, that's a heck of a lot. Use `[:10]` to only do the first ten (`listname[:10]` gives you the first ten)."
   ]
  },
  {
   "cell_type": "code",
   "execution_count": 11,
   "metadata": {},
   "outputs": [
    {
     "name": "stdout",
     "output_type": "stream",
     "text": [
      "NGUYEN, TOAN HUU\n",
      "City: SAN ANTONIO\n",
      "County: BEXAR\n",
      "Zip Code: 78217\n",
      "\n",
      "\n",
      "License #(s): 780948, 1706491, 1699123\n",
      "\n",
      "Complaint # COS20180004289\n",
      "NGUYEN, HANH CONG\n",
      "City: EL PASO\n",
      "County: EL PASO\n",
      "Zip Code: 79934\n",
      "\n",
      "\n",
      "License #: 737708\n",
      "\n",
      "Complaint # COS20180006594\n",
      "NGUYEN, KHIEM VAN\n",
      "City: LONGVIEW\n",
      "County: GREGG\n",
      "Zip Code: 75604\n",
      "\n",
      "\n",
      "License #: 731665\n",
      "\n",
      "Complaint # COS20180000257\n",
      "NGUYEN, DIEP THI NGOC\n",
      "City: HOUSTON\n",
      "County: HARRIS\n",
      "Zip Code: 77014\n",
      "\n",
      "\n",
      "License #(s): 1347649, 760528\n",
      "\n",
      "Complaint # COS20180004915\n",
      "NGUYEN, LAN T-THUY\n",
      "City: SAN ANTONIO\n",
      "County: BEXAR\n",
      "Zip Code: 78255\n",
      "\n",
      "NGUYEN, SAMLOI\n",
      "City: SAN ANTONIO\n",
      "County: BEXAR\n",
      "Zip Code: 78255\n",
      "\n",
      "\n",
      "License #: 767339\n",
      "\n",
      "Complaint # COS20180009255\n",
      "NGUYEN, TUAN A\n",
      "City: AUSTIN\n",
      "County: TRAVIS\n",
      "Zip Code: 78723\n",
      "\n",
      "NGUYEN, TUAN VAN\n",
      "City: ARLINGTON\n",
      "County: TARRANT\n",
      "Zip Code: 76011\n",
      "\n",
      "\n",
      "License #: 681274\n",
      "\n",
      "Complaint # COS20140018343\n",
      "NGUYEN, THAO B\n",
      "City: EULESS\n",
      "County: TARRANT\n",
      "Zip Code: 76039\n",
      "\n",
      "\n",
      "License #(s): 721373, 1142884\n",
      "\n",
      "Complaint # COS20180008846\n",
      "NGUYEN, BETH MARIA\n",
      "City: HOUSTON\n",
      "County: HARRIS\n",
      "Zip Code: 77083\n",
      "\n",
      "\n",
      "License #: 1470271\n",
      "\n",
      "Complaint # COS20180000897\n",
      "NGUYEN, TRUNG N\n",
      "City: AMARILLO\n",
      "County: POTTER\n",
      "Zip Code: 79106\n",
      "\n",
      "\n",
      "License #(s): 1196244, 767015, 767014\n",
      "\n",
      "Complaint # COS20170023893\n"
     ]
    }
   ],
   "source": [
    "table = driver.find_element_by_tag_name('tbody')\n",
    "rows = table.find_elements_by_tag_name('tr')[1:10]\n",
    "for row in rows:\n",
    "    print(row.find_element_by_tag_name('td').text)\n",
    "    \n"
   ]
  },
  {
   "cell_type": "markdown",
   "metadata": {},
   "source": [
    "### Loop through each result and print each person's name\n",
    "\n",
    "You'll get an error because the first one doesn't have a name. How do you make that not happen?! If you want to ignore an error, you use code like this:\n",
    "\n",
    "```python\n",
    "try:\n",
    "   try to do something\n",
    "except:\n",
    "   print(\"It didn't work')\n",
    "```\n",
    "\n",
    "It should help you out. If you don't want to print anything, you can type `pass` instead of the `print` statement.\n",
    "\n",
    "**Why doesn't the first one have a name?**"
   ]
  },
  {
   "cell_type": "code",
   "execution_count": 27,
   "metadata": {},
   "outputs": [
    {
     "name": "stdout",
     "output_type": "stream",
     "text": [
      "NGUYEN, TOAN HUU\n",
      "NGUYEN, HANH CONG\n",
      "NGUYEN, KHIEM VAN\n",
      "NGUYEN, DIEP THI NGOC\n",
      "NGUYEN, LAN T-THUY\n",
      "NGUYEN, TUAN A\n",
      "NGUYEN, THAO B\n",
      "NGUYEN, BETH MARIA\n",
      "NGUYEN, TRUNG N\n"
     ]
    }
   ],
   "source": [
    "table = driver.find_element_by_tag_name('tbody')\n",
    "rows = table.find_elements_by_tag_name('tr')[1:10]\n",
    "for row in rows:\n",
    "    namelocations= row.find_elements_by_tag_name('td')[0]\n",
    "    name= namelocations.find_elements_by_tag_name ('span')[0]\n",
    "#     for namelocation in namelocations:\n",
    "#         name= namelocation.find_elements_by_tag_name('span')[0]\n",
    "    print(name.text)\n",
    "        "
   ]
  },
  {
   "cell_type": "markdown",
   "metadata": {},
   "source": [
    "## Loop through each result, printing each violation description (\"Basis for order\")\n",
    "\n",
    "> - *Tip: You'll get an error even if you're ALMOST right - which row is causing the problem?*\n",
    "> - *Tip: You can get the HTML of something by doing `.get_attribute('innerHTML')` - it might help you diagnose your issue.*\n",
    "> - *Tip: Or I guess you could just skip the one with the problem..."
   ]
  },
  {
   "cell_type": "code",
   "execution_count": 28,
   "metadata": {},
   "outputs": [
    {
     "name": "stdout",
     "output_type": "stream",
     "text": [
      "Respondent failed to clean and sanitize whirlpool foot spas as required at the end of each day.\n",
      "Respondent failed to clean and sanitize whirlpool foot spas as required at the end of each day; Respondent failed to use items subject to possible cross contamination in a manner that does not contaminate the remaining product.\n",
      "Respondent failed to follow whirlpool foot spas cleaning and sanitization procedures as required; Respondent failed to clean, disinfect, and sterilize manicure and pedicure implements after each use; Respondent failed to clean and disinfect all wax pots.\n",
      "Respondent failed to disinfect tools, implements, and supplies with an EPA-registered disinfectant solution; Respondent failed to disinfect multi-use equipment, implements, and tools prior to use on each client.\n",
      "Respondent failed to clean, disinfect, and sterilize manicure and pedicure implements after each use.\n",
      "Respondent failed to clean and disinfect all wax pots; Respondent failed to disinfect tools, implements, and supplies with a hospital-grade EPA-registered disinfectant solution; Respondent failed to replace materials that contact skin, or skin products from multi-use containers, with new or clean articles for each client.\n",
      "Respondent failed to clean and sanitize whirlpool foot spas as required at the end of each day.\n",
      "The Respondent's license was revoked upon Respondent's imprisonment in a penitentiary.\n",
      "Respondent failed to clean, disinfect, and sterilize manicure and pedicure implements after each use.\n"
     ]
    }
   ],
   "source": [
    "table = driver.find_element_by_tag_name('tbody')\n",
    "rows = table.find_elements_by_tag_name('tr')[1:10]\n",
    "for row in rows:\n",
    "    basis= row.find_elements_by_tag_name('td')[2]\n",
    "    print(basis.text)"
   ]
  },
  {
   "cell_type": "markdown",
   "metadata": {},
   "source": [
    "## Loop through each result, printing the complaint number\n",
    "\n",
    "- TIP: Think about the order of the elements"
   ]
  },
  {
   "cell_type": "code",
   "execution_count": 32,
   "metadata": {},
   "outputs": [
    {
     "name": "stdout",
     "output_type": "stream",
     "text": [
      "COS20180004289\n",
      "COS20180006594\n",
      "COS20180000257\n",
      "COS20180004915\n",
      "COS20180009255\n",
      "COS20140018343\n",
      "COS20180008846\n",
      "COS20180000897\n",
      "COS20170023893\n"
     ]
    }
   ],
   "source": [
    "table = driver.find_element_by_tag_name('tbody')\n",
    "rows = table.find_elements_by_tag_name('tr')[1:10]\n",
    "for row in rows:\n",
    "    namelocations= row.find_elements_by_tag_name('td')[0]\n",
    "    \n",
    "    complaint= namelocations.find_elements_by_tag_name ('span')[-1]\n",
    "    print(complaint.text)"
   ]
  },
  {
   "cell_type": "markdown",
   "metadata": {},
   "source": [
    "## Saving the results\n",
    "\n",
    "### Loop through each result to create a list of dictionaries\n",
    "\n",
    "Each dictionary must contain\n",
    "\n",
    "- Person's name\n",
    "- Violation description\n",
    "- Violation number\n",
    "- License Numbers\n",
    "- Zip Code\n",
    "- County\n",
    "- City\n",
    "\n",
    "Create a new dictionary for each result (except the header).\n",
    "\n",
    "> *Tip: If you want to ask for the \"next sibling,\" you can't use `find_next_sibling` in Selenium, you need to use `element.find_element_by_xpath(\"following-sibling::div\")` to find the next div, or `element.find_element_by_xpath(\"following-sibling::*\")` to find the next anything."
   ]
  },
  {
   "cell_type": "code",
   "execution_count": 37,
   "metadata": {},
   "outputs": [
    {
     "data": {
      "text/plain": [
       "[{\"Person's name\": 'NGUYEN, TOAN HUU',\n",
       "  'Violation description': 'Respondent failed to clean and sanitize whirlpool foot spas as required at the end of each day.',\n",
       "  'Viodlation number': 'COS20180004289',\n",
       "  'License Numbers': '780948, 1706491, 1699123',\n",
       "  'Zip Code': '78217',\n",
       "  'County': 'BEXAR',\n",
       "  'City': 'SAN ANTONIO'},\n",
       " {\"Person's name\": 'NGUYEN, HANH CONG',\n",
       "  'Violation description': 'Respondent failed to clean and sanitize whirlpool foot spas as required at the end of each day; Respondent failed to use items subject to possible cross contamination in a manner that does not contaminate the remaining product.',\n",
       "  'Viodlation number': 'COS20180006594',\n",
       "  'License Numbers': '737708',\n",
       "  'Zip Code': '79934',\n",
       "  'County': 'EL PASO',\n",
       "  'City': 'EL PASO'},\n",
       " {\"Person's name\": 'NGUYEN, KHIEM VAN',\n",
       "  'Violation description': 'Respondent failed to follow whirlpool foot spas cleaning and sanitization procedures as required; Respondent failed to clean, disinfect, and sterilize manicure and pedicure implements after each use; Respondent failed to clean and disinfect all wax pots.',\n",
       "  'Viodlation number': 'COS20180000257',\n",
       "  'License Numbers': '731665',\n",
       "  'Zip Code': '75604',\n",
       "  'County': 'GREGG',\n",
       "  'City': 'LONGVIEW'},\n",
       " {\"Person's name\": 'NGUYEN, DIEP THI NGOC',\n",
       "  'Violation description': 'Respondent failed to disinfect tools, implements, and supplies with an EPA-registered disinfectant solution; Respondent failed to disinfect multi-use equipment, implements, and tools prior to use on each client.',\n",
       "  'Viodlation number': 'COS20180004915',\n",
       "  'License Numbers': '1347649, 760528',\n",
       "  'Zip Code': '77014',\n",
       "  'County': 'HARRIS',\n",
       "  'City': 'HOUSTON'},\n",
       " {\"Person's name\": 'NGUYEN, LAN T-THUY',\n",
       "  'Violation description': 'Respondent failed to clean, disinfect, and sterilize manicure and pedicure implements after each use.',\n",
       "  'Viodlation number': 'COS20180009255',\n",
       "  'License Numbers': '767339',\n",
       "  'Zip Code': '78255',\n",
       "  'County': 'BEXAR',\n",
       "  'City': 'SAN ANTONIO'},\n",
       " {\"Person's name\": 'NGUYEN, TUAN A',\n",
       "  'Violation description': 'Respondent failed to clean and disinfect all wax pots; Respondent failed to disinfect tools, implements, and supplies with a hospital-grade EPA-registered disinfectant solution; Respondent failed to replace materials that contact skin, or skin products from multi-use containers, with new or clean articles for each client.',\n",
       "  'Viodlation number': 'COS20140018343',\n",
       "  'License Numbers': '681274',\n",
       "  'Zip Code': '78723',\n",
       "  'County': 'TRAVIS',\n",
       "  'City': 'AUSTIN'},\n",
       " {\"Person's name\": 'NGUYEN, THAO B',\n",
       "  'Violation description': 'Respondent failed to clean and sanitize whirlpool foot spas as required at the end of each day.',\n",
       "  'Viodlation number': 'COS20180008846',\n",
       "  'License Numbers': '721373, 1142884',\n",
       "  'Zip Code': '76039',\n",
       "  'County': 'TARRANT',\n",
       "  'City': 'EULESS'},\n",
       " {\"Person's name\": 'NGUYEN, BETH MARIA',\n",
       "  'Violation description': \"The Respondent's license was revoked upon Respondent's imprisonment in a penitentiary.\",\n",
       "  'Viodlation number': 'COS20180000897',\n",
       "  'License Numbers': '1470271',\n",
       "  'Zip Code': '77083',\n",
       "  'County': 'HARRIS',\n",
       "  'City': 'HOUSTON'},\n",
       " {\"Person's name\": 'NGUYEN, TRUNG N',\n",
       "  'Violation description': 'Respondent failed to clean, disinfect, and sterilize manicure and pedicure implements after each use.',\n",
       "  'Viodlation number': 'COS20170023893',\n",
       "  'License Numbers': '1196244, 767015, 767014',\n",
       "  'Zip Code': '79106',\n",
       "  'County': 'POTTER',\n",
       "  'City': 'AMARILLO'}]"
      ]
     },
     "execution_count": 37,
     "metadata": {},
     "output_type": "execute_result"
    }
   ],
   "source": [
    "mylist=[]\n",
    "table = driver.find_element_by_tag_name('tbody')\n",
    "rows = table.find_elements_by_tag_name('tr')[1:10]\n",
    "\n",
    "for row in rows:\n",
    "    dic={}\n",
    "    \n",
    "    namelocations= row.find_elements_by_tag_name('td')[0]\n",
    "    name= namelocations.find_elements_by_tag_name ('span')[0]\n",
    "    dic[\"Person's name\"]=name.text\n",
    "    \n",
    "    basis= row.find_elements_by_tag_name('td')[2]\n",
    "    dic['Violation description']=basis.text \n",
    "    \n",
    "    complaint= namelocations.find_elements_by_tag_name ('span')[-1]\n",
    "    dic['Viodlation number']=complaint.text\n",
    "    \n",
    "    license = namelocations.find_elements_by_tag_name ('span')[-3]\n",
    "    dic['License Numbers']=license.text\n",
    "    \n",
    "    zipcode= namelocations.find_elements_by_tag_name ('span')[6]\n",
    "    dic['Zip Code']=zipcode.text\n",
    "    \n",
    "    county= namelocations.find_elements_by_tag_name ('span')[4]\n",
    "    dic['County']=county.text\n",
    "    \n",
    "    city = namelocations.find_elements_by_tag_name ('span')[2]\n",
    "    dic['City']=city.text\n",
    "    \n",
    "    mylist.append(dic)\n",
    "mylist"
   ]
  },
  {
   "cell_type": "markdown",
   "metadata": {},
   "source": [
    "### Save that to a CSV\n",
    "\n",
    "- Tip: You'll want to use pandas here"
   ]
  },
  {
   "cell_type": "code",
   "execution_count": 38,
   "metadata": {},
   "outputs": [
    {
     "data": {
      "text/html": [
       "<div>\n",
       "<style scoped>\n",
       "    .dataframe tbody tr th:only-of-type {\n",
       "        vertical-align: middle;\n",
       "    }\n",
       "\n",
       "    .dataframe tbody tr th {\n",
       "        vertical-align: top;\n",
       "    }\n",
       "\n",
       "    .dataframe thead th {\n",
       "        text-align: right;\n",
       "    }\n",
       "</style>\n",
       "<table border=\"1\" class=\"dataframe\">\n",
       "  <thead>\n",
       "    <tr style=\"text-align: right;\">\n",
       "      <th></th>\n",
       "      <th>City</th>\n",
       "      <th>County</th>\n",
       "      <th>License Numbers</th>\n",
       "      <th>Person's name</th>\n",
       "      <th>Viodlation number</th>\n",
       "      <th>Violation description</th>\n",
       "      <th>Zip Code</th>\n",
       "    </tr>\n",
       "  </thead>\n",
       "  <tbody>\n",
       "    <tr>\n",
       "      <th>0</th>\n",
       "      <td>SAN ANTONIO</td>\n",
       "      <td>BEXAR</td>\n",
       "      <td>780948, 1706491, 1699123</td>\n",
       "      <td>NGUYEN, TOAN HUU</td>\n",
       "      <td>COS20180004289</td>\n",
       "      <td>Respondent failed to clean and sanitize whirlp...</td>\n",
       "      <td>78217</td>\n",
       "    </tr>\n",
       "    <tr>\n",
       "      <th>1</th>\n",
       "      <td>EL PASO</td>\n",
       "      <td>EL PASO</td>\n",
       "      <td>737708</td>\n",
       "      <td>NGUYEN, HANH CONG</td>\n",
       "      <td>COS20180006594</td>\n",
       "      <td>Respondent failed to clean and sanitize whirlp...</td>\n",
       "      <td>79934</td>\n",
       "    </tr>\n",
       "    <tr>\n",
       "      <th>2</th>\n",
       "      <td>LONGVIEW</td>\n",
       "      <td>GREGG</td>\n",
       "      <td>731665</td>\n",
       "      <td>NGUYEN, KHIEM VAN</td>\n",
       "      <td>COS20180000257</td>\n",
       "      <td>Respondent failed to follow whirlpool foot spa...</td>\n",
       "      <td>75604</td>\n",
       "    </tr>\n",
       "    <tr>\n",
       "      <th>3</th>\n",
       "      <td>HOUSTON</td>\n",
       "      <td>HARRIS</td>\n",
       "      <td>1347649, 760528</td>\n",
       "      <td>NGUYEN, DIEP THI NGOC</td>\n",
       "      <td>COS20180004915</td>\n",
       "      <td>Respondent failed to disinfect tools, implemen...</td>\n",
       "      <td>77014</td>\n",
       "    </tr>\n",
       "    <tr>\n",
       "      <th>4</th>\n",
       "      <td>SAN ANTONIO</td>\n",
       "      <td>BEXAR</td>\n",
       "      <td>767339</td>\n",
       "      <td>NGUYEN, LAN T-THUY</td>\n",
       "      <td>COS20180009255</td>\n",
       "      <td>Respondent failed to clean, disinfect, and ste...</td>\n",
       "      <td>78255</td>\n",
       "    </tr>\n",
       "  </tbody>\n",
       "</table>\n",
       "</div>"
      ],
      "text/plain": [
       "          City   County           License Numbers          Person's name  \\\n",
       "0  SAN ANTONIO    BEXAR  780948, 1706491, 1699123       NGUYEN, TOAN HUU   \n",
       "1      EL PASO  EL PASO                    737708      NGUYEN, HANH CONG   \n",
       "2     LONGVIEW    GREGG                    731665      NGUYEN, KHIEM VAN   \n",
       "3      HOUSTON   HARRIS           1347649, 760528  NGUYEN, DIEP THI NGOC   \n",
       "4  SAN ANTONIO    BEXAR                    767339     NGUYEN, LAN T-THUY   \n",
       "\n",
       "  Viodlation number                              Violation description  \\\n",
       "0    COS20180004289  Respondent failed to clean and sanitize whirlp...   \n",
       "1    COS20180006594  Respondent failed to clean and sanitize whirlp...   \n",
       "2    COS20180000257  Respondent failed to follow whirlpool foot spa...   \n",
       "3    COS20180004915  Respondent failed to disinfect tools, implemen...   \n",
       "4    COS20180009255  Respondent failed to clean, disinfect, and ste...   \n",
       "\n",
       "  Zip Code  \n",
       "0    78217  \n",
       "1    79934  \n",
       "2    75604  \n",
       "3    77014  \n",
       "4    78255  "
      ]
     },
     "execution_count": 38,
     "metadata": {},
     "output_type": "execute_result"
    }
   ],
   "source": [
    "import pandas as pd\n",
    "df =pd.DataFrame(mylist)\n",
    "df.head()"
   ]
  },
  {
   "cell_type": "code",
   "execution_count": 39,
   "metadata": {},
   "outputs": [],
   "source": [
    "df.to_csv('texas_cosmetology_violations.csv',index=False)"
   ]
  },
  {
   "cell_type": "code",
   "execution_count": null,
   "metadata": {},
   "outputs": [],
   "source": []
  },
  {
   "cell_type": "markdown",
   "metadata": {},
   "source": [
    "### Open the CSV file and examine the first few. Make sure you didn't save an extra weird unnamed column."
   ]
  },
  {
   "cell_type": "code",
   "execution_count": null,
   "metadata": {
    "collapsed": true
   },
   "outputs": [],
   "source": []
  }
 ],
 "metadata": {
  "kernelspec": {
   "display_name": "Python 3",
   "language": "python",
   "name": "python3"
  },
  "language_info": {
   "codemirror_mode": {
    "name": "ipython",
    "version": 3
   },
   "file_extension": ".py",
   "mimetype": "text/x-python",
   "name": "python",
   "nbconvert_exporter": "python",
   "pygments_lexer": "ipython3",
   "version": "3.6.5"
  }
 },
 "nbformat": 4,
 "nbformat_minor": 2
}
